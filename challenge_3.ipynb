{
 "cells": [
  {
   "cell_type": "code",
   "execution_count": null,
   "metadata": {},
   "outputs": [
    {
     "name": "stdout",
     "output_type": "stream",
     "text": [
      "👩‍🦰🔪👻\n",
      "🤫💔🎹\n",
      "미안해요, 그 질문에 대한 답변을 제공할 수 없어요.\n"
     ]
    }
   ],
   "source": [
    "from langchain.chat_models import ChatOpenAI\n",
    "from langchain.prompts import ChatPromptTemplate\n",
    "from langchain.prompts.few_shot import FewShotChatMessagePromptTemplate\n",
    "from langchain.memory import ConversationBufferMemory\n",
    "from langchain.schema.runnable import RunnablePassthrough\n",
    "from langchain.prompts import MessagesPlaceholder\n",
    "\n",
    "llm = ChatOpenAI(temperature=0.1)\n",
    "\n",
    "memory = ConversationBufferMemory(return_messages=True)\n",
    "\n",
    "examples_answer = [\n",
    "    {\"question\": \"탑건\", \"answer\": \"🛩️👨‍✈️🔥\"},\n",
    "    {\"question\": \"대부\", \"answer\": \"👨‍👨‍👦🔫🍝\"},\n",
    "]\n",
    "\n",
    "movie_prompt = ChatPromptTemplate.from_messages([\n",
    "    (\"human\", \"{question}\"),\n",
    "    (\"ai\", \"{answer}\"),\n",
    "])\n",
    "\n",
    "example_movie_prompt = FewShotChatMessagePromptTemplate(\n",
    "    examples=examples_answer,\n",
    "    example_prompt=movie_prompt,\n",
    ")\n",
    "\n",
    "prompt = ChatPromptTemplate.from_messages([\n",
    "    (\"system\", \"\"\"\n",
    "        When the human asks for the title of a movie, answer it with three emoticons. \n",
    "        If the human asks a general question, not the title of the movie, answer it in Korean.\n",
    "        Below is a few-shot example of how to answer movie-related questions:\n",
    "    \"\"\"),\n",
    "    example_movie_prompt,\n",
    "    (\"system\", \"Now, below is the actual conversation history.\"),\n",
    "    MessagesPlaceholder(variable_name=\"history\"), \n",
    "    (\"human\", \"{question}\")\n",
    "])\n",
    "\n",
    "def load_memory(_):\n",
    "    return memory.load_memory_variables({})[\"history\"]\n",
    "\n",
    "chain = RunnablePassthrough.assign(history=load_memory) | prompt | llm\n",
    "\n",
    "def invoke_chain(question):\n",
    "    result = chain.invoke({\"question\": question})\n",
    "    memory.save_context({\"input\": question}, {\"output\": result.content})  \n",
    "    print(result.content)  \n",
    "\n",
    "\n",
    "invoke_chain(\"검은수녀들\")  \n",
    "invoke_chain(\"말할 수 없는 비밀\") \n",
    "invoke_chain(\"이 질문은 영화제목은 아니고 내가 체인에 첫 번째로 물어본 영화제목이 뭐였어?\")"
   ]
  },
  {
   "cell_type": "code",
   "execution_count": 48,
   "metadata": {},
   "outputs": [
    {
     "name": "stdout",
     "output_type": "stream",
     "text": [
      "죄송하지만, 그 질문에 대한 답변을 제공할 수 없습니다.\n"
     ]
    }
   ],
   "source": [
    "invoke_chain(\"왜 답변할 수 없어?\")"
   ]
  },
  {
   "cell_type": "markdown",
   "metadata": {},
   "source": [
    "마지막 대답이 왜 계속 탑건이 나오는지 알 수 없음!"
   ]
  }
 ],
 "metadata": {
  "kernelspec": {
   "display_name": "env",
   "language": "python",
   "name": "python3"
  },
  "language_info": {
   "codemirror_mode": {
    "name": "ipython",
    "version": 3
   },
   "file_extension": ".py",
   "mimetype": "text/x-python",
   "name": "python",
   "nbconvert_exporter": "python",
   "pygments_lexer": "ipython3",
   "version": "3.11.6"
  }
 },
 "nbformat": 4,
 "nbformat_minor": 2
}
