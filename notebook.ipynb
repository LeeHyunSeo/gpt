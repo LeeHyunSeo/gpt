{
 "cells": [
  {
   "cell_type": "code",
   "execution_count": 2,
   "metadata": {},
   "outputs": [
    {
     "name": "stdout",
     "output_type": "stream",
     "text": [
      " The straight-line distance (air distance) between Mexico City, Mexico, and Bangkok, Thailand, is approximately 12,300 kilometers (7,646 miles). However, actual travel distances can vary depending on the specific cities or airports involved and the flight path taken."
     ]
    },
    {
     "data": {
      "text/plain": [
       "' The straight-line distance (air distance) between Mexico City, Mexico, and Bangkok, Thailand, is approximately 12,300 kilometers (7,646 miles). However, actual travel distances can vary depending on the specific cities or airports involved and the flight path taken.'"
      ]
     },
     "execution_count": 2,
     "metadata": {},
     "output_type": "execute_result"
    }
   ],
   "source": [
    "from langchain.chat_models import ChatOllama\n",
    "from langchain.prompts import PromptTemplate, ChatPromptTemplate\n",
    "from langchain.callbacks import StreamingStdOutCallbackHandler\n",
    "\n",
    "chat = ChatOllama(model=\"mistral:latest\", temperature=0.1, streaming=True, callbacks=[StreamingStdOutCallbackHandler()])\n",
    "\n",
    "template = PromptTemplate.from_template(\"What is the distance between {country_a} and {country_b}.\")\n",
    "prompt = template.format(country_a=\"Mexico\", country_b=\"Thailand\")\n",
    "chat.predict(prompt)"
   ]
  },
  {
   "cell_type": "code",
   "execution_count": 3,
   "metadata": {},
   "outputs": [
    {
     "name": "stdout",
     "output_type": "stream",
     "text": [
      "멕시코와 태국 사이의 거리는 약 12,000 킬로미터입니다. 저의 이름은 Jaewon입니다.\n",
      "\n",
      "Mexico and Thailand are approximately 12,000 kilometers apart. My name is Jaewon."
     ]
    },
    {
     "data": {
      "text/plain": [
       "AIMessage(content='멕시코와 태국 사이의 거리는 약 12,000 킬로미터입니다. 저의 이름은 Jaewon입니다.\\n\\nMexico and Thailand are approximately 12,000 kilometers apart. My name is Jaewon.')"
      ]
     },
     "execution_count": 3,
     "metadata": {},
     "output_type": "execute_result"
    }
   ],
   "source": [
    "#from langchain.schema import HumanMessage, AIMessage, SystemMessage\n",
    "\n",
    "# messages = [\n",
    "#     SystemMessage(\n",
    "#         content = \"You are a geography expert. and you only reply in Italian.\"\n",
    "#     ),\n",
    "#     AIMessage(content = \"Ciao, mi chiamo Paolo!\"),\n",
    "#     HumanMessage(content = \"What is yhe distance between Mexico and Thailand. Also, What is your name?\")\n",
    "# ]\n",
    "\n",
    "template = ChatPromptTemplate.from_messages([\n",
    "    (\"system\", \"You are a geography expert. and you only reply in {language}\"),\n",
    "    (\"ai\",\"Ciao, mi chiamo {name}!\"),\n",
    "    (\"human\",\"What is yhe distance between {country_a} and {country_b}. Also, What is your name?\")\n",
    "])\n",
    "\n",
    "prompt = template.format_messages(\n",
    "    language=\"korean\",\n",
    "    name=\"Jaewon\",\n",
    "    country_a=\"Mexico\",\n",
    "    country_b=\"Thailand\"\n",
    ")\n",
    "\n",
    "chat.predict_messages(prompt)\n",
    "# chat.predict_messages(messages)"
   ]
  },
  {
   "cell_type": "code",
   "execution_count": 4,
   "metadata": {},
   "outputs": [],
   "source": [
    "from langchain.schema import BaseOutputParser\n",
    "\n",
    "class CommaOutputParser(BaseOutputParser):\n",
    "    def parse(self, text):\n",
    "        items = text.strip().split(\",\")\n",
    "        return list(map(str.strip,items))"
   ]
  },
  {
   "cell_type": "code",
   "execution_count": 5,
   "metadata": {},
   "outputs": [
    {
     "name": "stdout",
     "output_type": "stream",
     "text": [
      " bulbasaur, charmander, squirtle, pikachu, eevee\n",
      "\n",
      "In case you need more:\n",
      "\n",
      "mewtwo, charizard, blastoise, snorlax, jigglypuff"
     ]
    },
    {
     "data": {
      "text/plain": [
       "['bulbasaur',\n",
       " 'charmander',\n",
       " 'squirtle',\n",
       " 'pikachu',\n",
       " 'eevee\\n\\nIn case you need more:\\n\\nmewtwo',\n",
       " 'charizard',\n",
       " 'blastoise',\n",
       " 'snorlax',\n",
       " 'jigglypuff']"
      ]
     },
     "execution_count": 5,
     "metadata": {},
     "output_type": "execute_result"
    }
   ],
   "source": [
    "template = ChatPromptTemplate.from_messages([\n",
    "    (\"system\",\"You are a list henerating machine. Everything you are asked will be ansered with  a comma separated list of max {max_items} in lowercase. Do NOT reply with anything else.\"),\n",
    "    (\"human\",\"{question}\")\n",
    "])\n",
    "\n",
    "# prompt = template.format_messages(\n",
    "#     max_items = 10,\n",
    "#     question = \"what are the colors\"\n",
    "# )\n",
    "# result = chat.predict_messages(prompt)\n",
    "# p = CommaOutputParser()\n",
    "# p.parse(result.content)\n",
    "\n",
    "chain = template | chat | CommaOutputParser()\n",
    "chain.invoke({\n",
    "    \"max_items\": 5,\n",
    "    \"question\": \"what are the poketmons\"\n",
    "})"
   ]
  },
  {
   "cell_type": "code",
   "execution_count": 6,
   "metadata": {},
   "outputs": [
    {
     "name": "stdout",
     "output_type": "stream",
     "text": [
      " Sure! Here's an easy recipe for Chicken Tikka Masala, a popular Indian dish:\n",
      "\n",
      "Ingredients:\n",
      "- 4 boneless, skinless chicken breasts, cut into bite-sized pieces\n",
      "- 1 cup plain yogurt\n",
      "- 2 tablespoons garam masala\n",
      "- 1 tablespoon ground cumin\n",
      "- 1 tablespoon paprika\n",
      "- 2 teaspoons salt\n",
      "- 2 tablespoons vegetable oil\n",
      "- 1 large onion, finely chopped\n",
      "- 3 cloves garlic, minced\n",
      "- 2 tablespoons tomato paste\n",
      "- 1 can (14 oz) diced tomatoes\n",
      "- 1 cup heavy cream\n",
      "- 2 teaspoons sugar\n",
      "- 1 teaspoon cayenne pepper\n",
      "- Freshly chopped cilantro for garnish\n",
      "\n",
      "Instructions:\n",
      "1. In a large bowl, combine the chicken, yogurt, garam masala, cumin, paprika, and salt. Mix well to coat the chicken evenly. Cover and refrigerate for at least 30 minutes or up to overnight.\n",
      "2. Heat the oil in a large skillet over medium heat. Add the onion and cook until softened, about 5 minutes. Add the garlic and cook for another minute.\n",
      "3. Stir in the tomato paste, diced tomatoes, heavy cream, sugar, cayenne pepper, and chicken (with marinade). Bring to a simmer and reduce heat to low. Cover and let simmer for about 20 minutes or until the chicken is cooked through.\n",
      "4. Garnish with freshly chopped cilantro before serving. Enjoy with rice or naan bread!\n",
      "\n",
      "This dish has a rich, creamy sauce with tender chicken pieces. You can adjust the spiciness to your liking by adding more or less cayenne pepper. Enjoy cooking! content=\" Here's a vegetarian version of Chicken Tikka Masala using paneer (Indian cottage cheese) instead of chicken:\\n\\nIngredients:\\n- 1 lb paneer, cut into bite-sized pieces\\n- 1 cup plain yogurt\\n- 2 tablespoons garam masala\\n- 1 tablespoon ground cumin\\n- 1 tablespoon paprika\\n- 2 teaspoons salt\\n- 2 tablespoons vegetable oil\\n- 1 large onion, finely chopped\\n- 3 cloves garlic, minced\\n- 2 tablespoons tomato paste\\n- 1 can (14 oz) diced tomatoes\\n- 1 cup heavy cream\\n- 2 teaspoons sugar\\n- 1 teaspoon cayenne pepper\\n- Freshly chopped cilantro for garnish\\n\\nInstructions:\\n1. In a large bowl, combine the paneer, yogurt, garam masala, cumin, paprika, and salt. Mix well to coat the paneer evenly. Cover and refrigerate for at least 30 minutes or up to overnight.\\n2. Heat the oil in a large skillet over medium heat. Add the onion and cook until softened, about 5 minutes. Add the garlic and cook for another minute.\\n3. Stir in the tomato paste, diced tomatoes, heavy cream, sugar, cayenne pepper, and paneer (with marinade). Bring to a simmer and reduce heat to low. Cover and let simmer for about 20 minutes or until the paneer is cooked through.\\n4. Garnish with freshly chopped cilantro before serving. Enjoy with rice or naan bread!\\n\\nThis dish has a rich, creamy sauce with tender paneer pieces. You can adjust the spiciness to your liking by adding more or less cayenne pepper. Enjoy cooking!\""
     ]
    },
    {
     "data": {
      "text/plain": [
       "AIMessage(content=' content=\" Here\\'s a vegetarian version of Chicken Tikka Masala using paneer (Indian cottage cheese) instead of chicken:\\\\n\\\\nIngredients:\\\\n- 1 lb paneer, cut into bite-sized pieces\\\\n- 1 cup plain yogurt\\\\n- 2 tablespoons garam masala\\\\n- 1 tablespoon ground cumin\\\\n- 1 tablespoon paprika\\\\n- 2 teaspoons salt\\\\n- 2 tablespoons vegetable oil\\\\n- 1 large onion, finely chopped\\\\n- 3 cloves garlic, minced\\\\n- 2 tablespoons tomato paste\\\\n- 1 can (14 oz) diced tomatoes\\\\n- 1 cup heavy cream\\\\n- 2 teaspoons sugar\\\\n- 1 teaspoon cayenne pepper\\\\n- Freshly chopped cilantro for garnish\\\\n\\\\nInstructions:\\\\n1. In a large bowl, combine the paneer, yogurt, garam masala, cumin, paprika, and salt. Mix well to coat the paneer evenly. Cover and refrigerate for at least 30 minutes or up to overnight.\\\\n2. Heat the oil in a large skillet over medium heat. Add the onion and cook until softened, about 5 minutes. Add the garlic and cook for another minute.\\\\n3. Stir in the tomato paste, diced tomatoes, heavy cream, sugar, cayenne pepper, and paneer (with marinade). Bring to a simmer and reduce heat to low. Cover and let simmer for about 20 minutes or until the paneer is cooked through.\\\\n4. Garnish with freshly chopped cilantro before serving. Enjoy with rice or naan bread!\\\\n\\\\nThis dish has a rich, creamy sauce with tender paneer pieces. You can adjust the spiciness to your liking by adding more or less cayenne pepper. Enjoy cooking!\"')"
      ]
     },
     "execution_count": 6,
     "metadata": {},
     "output_type": "execute_result"
    }
   ],
   "source": [
    "from langchain.chat_models import ChatOllama\n",
    "from langchain.prompts import ChatPromptTemplate\n",
    "from langchain.callbacks import StreamingStdOutCallbackHandler\n",
    "\n",
    "chat = ChatOllama(model=\"mistral:latest\", temperature=0.1, streaming=True, callbacks=[StreamingStdOutCallbackHandler()])\n",
    "\n",
    "chef_prompt = ChatPromptTemplate.from_messages([\n",
    "    (\"system\", \"You are a world-class international chef. You create easy to follow recipies for any type of cuisine with easy to find ingredients.\"),\n",
    "    (\"human\", \"I want to cook {cuisine} food\")\n",
    "])\n",
    "\n",
    "chef_chain = chef_prompt | chat\n",
    "\n",
    "veg_chef_prompt = ChatPromptTemplate.from_messages([\n",
    "    (\"system\", \"You are a vegetarian chef specfialized on making traditional recipies vegetarian. You find alternative ingredients and explain thier preparation. You don't radically modify the recipe. If there is no alternative for a food just say you don't know how to replace it.\"),\n",
    "    (\"human\", \"{recipe}\")\n",
    "])\n",
    "\n",
    "veg_chain = veg_chef_prompt | chat\n",
    "\n",
    "final_chain = {\"recipe\":chef_chain} | veg_chain\n",
    "\n",
    "final_chain.invoke({\n",
    "    \"cuisine\": \"indian\"\n",
    "})"
   ]
  }
 ],
 "metadata": {
  "kernelspec": {
   "display_name": "env",
   "language": "python",
   "name": "python3"
  },
  "language_info": {
   "codemirror_mode": {
    "name": "ipython",
    "version": 3
   },
   "file_extension": ".py",
   "mimetype": "text/x-python",
   "name": "python",
   "nbconvert_exporter": "python",
   "pygments_lexer": "ipython3",
   "version": "3.11.6"
  }
 },
 "nbformat": 4,
 "nbformat_minor": 2
}
