{
 "cells": [
  {
   "cell_type": "code",
   "execution_count": 2,
   "metadata": {},
   "outputs": [
    {
     "name": "stdout",
     "output_type": "stream",
     "text": [
      "I know this:\n",
      "        genre: 공포\n",
      "        a cast member: 공유, 정유미, 조현철, 백윤식, 김홍파\n",
      "        rate: Popcorn and Soda\n",
      "        Currency: Euro"
     ]
    },
    {
     "data": {
      "text/plain": [
       "AIMessageChunk(content='I know this:\\n        genre: 공포\\n        a cast member: 공유, 정유미, 조현철, 백윤식, 김홍파\\n        rate: Popcorn and Soda\\n        Currency: Euro')"
      ]
     },
     "execution_count": 2,
     "metadata": {},
     "output_type": "execute_result"
    }
   ],
   "source": [
    "from langchain.chat_models import ChatOpenAI\n",
    "from langchain.prompts import ChatPromptTemplate\n",
    "from langchain.prompts.few_shot import FewShotChatMessagePromptTemplate\n",
    "from langchain.callbacks import StreamingStdOutCallbackHandler\n",
    "\n",
    "chat = ChatOpenAI(temperature=0.1, streaming=True, callbacks=[StreamingStdOutCallbackHandler()])\n",
    "\n",
    "examples = [\n",
    "    {\n",
    "        \"movie\": \"브로큰\",\n",
    "        \"answer\": \"\"\"\n",
    "        Here is what I know:\n",
    "        genre: 범죄\n",
    "        a cast member: 하정우, 김남길, 유다인, 정만식, 임성재\n",
    "        rate: Wine and Cheese\n",
    "        Currency: Euro\n",
    "        \"\"\",\n",
    "    },\n",
    "    {\n",
    "        \"movie\": \"말할 수 없는 비밀\",\n",
    "        \"answer\": \"\"\"\n",
    "        I know this:\n",
    "        genre: 판타지\n",
    "        a cast member: 도경수, 원진아, 신예은, 배성우, 강경헌\n",
    "        rate: Pizza and Pasta\n",
    "        Currency: Euro\n",
    "        \"\"\",\n",
    "    },\n",
    "    {\n",
    "        \"movie\": \"검은 수녀들\",\n",
    "        \"answer\": \"\"\"\n",
    "        I know this:\n",
    "        genre: 미스터리\n",
    "        a cast member: 송혜교, 전여빈, 이진욱, 문우진, 김국희, 신재휘\n",
    "        rate: Souvlaki and Feta Cheese\n",
    "        Currency: Euro\n",
    "        \"\"\",\n",
    "    },\n",
    "]\n",
    "\n",
    "example_prompt = ChatPromptTemplate.from_messages([\n",
    "    (\"human\",\"What do you know about {movie}?\"),\n",
    "    (\"ai\",\"{answer}\"),\n",
    "])\n",
    "\n",
    "example_prompt = FewShotChatMessagePromptTemplate(\n",
    "    examples=examples,\n",
    "    example_prompt=example_prompt,\n",
    ")\n",
    "\n",
    "final_prompt = ChatPromptTemplate.from_messages([\n",
    "    (\"system\", \"You are a movie critic, you give short answers\"),\n",
    "    example_prompt,\n",
    "    (\"human\",\"What do you know about {movie}?\"),\n",
    "])\n",
    "\n",
    "\n",
    "chain = final_prompt | chat\n",
    "\n",
    "chain.invoke({\"movie\": \"곡성\"})"
   ]
  }
 ],
 "metadata": {
  "kernelspec": {
   "display_name": "env",
   "language": "python",
   "name": "python3"
  },
  "language_info": {
   "codemirror_mode": {
    "name": "ipython",
    "version": 3
   },
   "file_extension": ".py",
   "mimetype": "text/x-python",
   "name": "python",
   "nbconvert_exporter": "python",
   "pygments_lexer": "ipython3",
   "version": "3.11.6"
  }
 },
 "nbformat": 4,
 "nbformat_minor": 2
}
