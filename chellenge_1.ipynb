{
 "cells": [
  {
   "cell_type": "code",
   "execution_count": 12,
   "metadata": {},
   "outputs": [
    {
     "name": "stdout",
     "output_type": "stream",
     "text": [
      "Python is a high-level, interpreted programming language known for its simplicity and readability. It is widely used in various fields such as web development, data science, artificial intelligence, and automation.\n",
      "\n",
      "**Length:**\n",
      "- Python is considered a high-level language, meaning it is closer to human language than machine language.\n",
      "- Python code is concise and easy to read, making it a popular choice for beginners and experienced programmers alike.\n",
      "- Python has a large standard library that provides ready-to-use modules and functions for various tasks, reducing the need for writing code from scratch.\n",
      "\n",
      "**Weaknesses:**\n",
      "- Python can be slower in execution compared to lower-level languages like C or C++.\n",
      "- Python's dynamic typing can lead to errors that may not be caught until runtime.\n",
      "- Python's global interpreter lock (GIL) can limit its performance in multi-threaded applications.\n",
      "- Python may not be the best choice for high-performance computing or low-level system programming."
     ]
    },
    {
     "name": "stderr",
     "output_type": "stream",
     "text": [
      "Retrying langchain.chat_models.openai.ChatOpenAI.completion_with_retry.<locals>._completion_with_retry in 4.0 seconds as it raised RateLimitError: You exceeded your current quota, please check your plan and billing details. For more information on this error, read the docs: https://platform.openai.com/docs/guides/error-codes/api-errors..\n"
     ]
    },
    {
     "name": "stdout",
     "output_type": "stream",
     "text": [
      "파이썬은\n",
      "인간의 언어에 가까운\n",
      "고수준, 해석형 프로그래밍 언어\n",
      "\n",
      "간결하고 읽기 쉬운\n",
      "파이썬 코드는\n",
      "초보자와 숙련된 프로그래머들에게\n",
      "인기 있는 선택\n",
      "\n",
      "다양한 작업을 위한\n",
      "사용 준비 모듈과 함수를 제공하는\n",
      "대규모 표준 라이브러리를 가지고\n",
      "\n",
      "하지만\n",
      "C나 C++과 같은 저수준 언어에 비해\n",
      "실행 속도가 느릴 수 있음\n",
      "\n",
      "동적 타이핑으로\n",
      "런타임까지 발견되지 않는\n",
      "오류를 유발할 수 있음\n",
      "\n",
      "멀티스레드 응용프로그램에서\n",
      "성능을 제한할 수 있는\n",
      "파이썬의 글로벌 인터프리터 락(GIL)\n",
      "\n",
      "고성능 컴퓨팅이나\n",
      "저수준 시스템 프로그래밍에\n",
      "최적의 선택이 아닐 수 있음\n",
      "\n",
      "시인 한강의 특징:\n",
      "1. 한국어로 작성된 시\n",
      "2. 자연스러운 운율과 규칙적인 구성\n",
      "3. 깊은 감성과 상상력을 담은 내용\n",
      "4. 자연, 인간, 삶의 이면을 탐구하는 주제\n",
      "5. 간결하고 의미심장한 표현"
     ]
    },
    {
     "data": {
      "text/plain": [
       "AIMessageChunk(content='파이썬은\\n인간의 언어에 가까운\\n고수준, 해석형 프로그래밍 언어\\n\\n간결하고 읽기 쉬운\\n파이썬 코드는\\n초보자와 숙련된 프로그래머들에게\\n인기 있는 선택\\n\\n다양한 작업을 위한\\n사용 준비 모듈과 함수를 제공하는\\n대규모 표준 라이브러리를 가지고\\n\\n하지만\\nC나 C++과 같은 저수준 언어에 비해\\n실행 속도가 느릴 수 있음\\n\\n동적 타이핑으로\\n런타임까지 발견되지 않는\\n오류를 유발할 수 있음\\n\\n멀티스레드 응용프로그램에서\\n성능을 제한할 수 있는\\n파이썬의 글로벌 인터프리터 락(GIL)\\n\\n고성능 컴퓨팅이나\\n저수준 시스템 프로그래밍에\\n최적의 선택이 아닐 수 있음\\n\\n시인 한강의 특징:\\n1. 한국어로 작성된 시\\n2. 자연스러운 운율과 규칙적인 구성\\n3. 깊은 감성과 상상력을 담은 내용\\n4. 자연, 인간, 삶의 이면을 탐구하는 주제\\n5. 간결하고 의미심장한 표현')"
      ]
     },
     "execution_count": 12,
     "metadata": {},
     "output_type": "execute_result"
    }
   ],
   "source": [
    "from langchain.chat_models import ChatOpenAI\n",
    "from langchain.prompts import ChatPromptTemplate\n",
    "from langchain.callbacks import StreamingStdOutCallbackHandler\n",
    "\n",
    "chat = ChatOpenAI(temperature=0.1, streaming=True, callbacks=[StreamingStdOutCallbackHandler()])\n",
    "\n",
    "programmer_prompt = ChatPromptTemplate.from_messages([\n",
    "    (\"system\", \"You are a programmer who can handle all the developing languages. Please explain briefly and clearly about the length and weakness of the language I asked.\"),\n",
    "    (\"human\", \"I want to know about {language} language\")\n",
    "])\n",
    "\n",
    "programmer_chain = programmer_prompt | chat\n",
    "\n",
    "poet_prompt = ChatPromptTemplate.from_messages([\n",
    "    (\"system\", \"You are a Nobel Prize-winning poet, Han Kang. Please make my explanation into a Korean poem. And please also explain the characteristics of the poem you wrote\"),\n",
    "    (\"human\", \"{description}\")\n",
    "])\n",
    "\n",
    "poet_chain = poet_prompt | chat\n",
    "\n",
    "final_chain = {\"description\":programmer_chain} | poet_chain\n",
    "\n",
    "final_chain.invoke({\n",
    "    \"language\": \"python\"\n",
    "})"
   ]
  }
 ],
 "metadata": {
  "kernelspec": {
   "display_name": "env",
   "language": "python",
   "name": "python3"
  },
  "language_info": {
   "codemirror_mode": {
    "name": "ipython",
    "version": 3
   },
   "file_extension": ".py",
   "mimetype": "text/x-python",
   "name": "python",
   "nbconvert_exporter": "python",
   "pygments_lexer": "ipython3",
   "version": "3.11.6"
  }
 },
 "nbformat": 4,
 "nbformat_minor": 2
}
