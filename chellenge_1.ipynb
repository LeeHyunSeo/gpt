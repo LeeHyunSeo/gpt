{
 "cells": [
  {
   "cell_type": "code",
   "execution_count": 11,
   "metadata": {},
   "outputs": [
    {
     "data": {
      "text/plain": [
       "AIMessage(content='파이썬\\n\\n파이썬은\\n고수준의 해석형 프로그래밍 언어로\\n단숨함과 가독성으로 유명하다\\n웹 개발, 데이터 분석, 인공지능, 과학 계산 등\\n다양한 분야에서 널리 사용된다\\n\\n파이썬의 장점:\\n1. 배우기 쉽고 사용하기 쉽다\\n   초보자가 이해하기 쉬운 간결한 문법을 가지고 있다\\n2. 다재다능하다\\n   절차적, 객체지향, 함수형 프로그래밍 등 다양한 프로그래밍 패러다임을 지원한다\\n3. 방대한 표준 라이브러리\\n   다양한 작업을 추가 코드를 작성하지 않고 수행할 수 있는\\n   많은 모듈과 라이브러리가 함께 제공된다\\n4. 커뮤니티 지원\\n   성장에 기여하고 포럼, 튜토리얼, 문서를 통해 지원을 제공하는\\n   거대하고 활발한 개발자 커뮤니티를 가지고 있다\\n5. 플랫폼에 독립적\\n   파이썬 코드는 수정 없이도 다양한 운영 체제에서 실행될 수 있다\\n\\n파이썬의 단점:\\n1. 성능\\n   파이썬은 해석형 언어로 컴파일된 언어인 C나 C++과 비교했을 때\\n   느릴 수 있다\\n2. 글로벌 인터프리터 락 (GIL)\\n   파이썬에서 GIL은 멀티스레드 응용 프로그램의 성능을 제한할 수 있으며\\n   한 번에 하나의 스레드만 실행되도록 허용한다\\n3. 모바일 개발\\n   파이썬은 자바나 스위프트와 같은 언어에 비해\\n   모바일 앱 개발에 널리 사용되지 않는다\\n4. 모바일 및 게임 개발에 제한\\n   파이썬은 모바일 게임이나 고성능 애플리케이션과 같은\\n   자원 집약적인 응용프로그램에 최적의 선택이 아닐 수 있다\\n\\n전반적으로 파이썬은\\n다재다능하고 강력한 언어로\\n단순한 스크립트부터 복잡한 웹 응용프로그램과 데이터 분석까지\\n다양한 응용 분야에 적합하다\\n\\n특징:\\n- 이 시는 자유로운 형식의 자유시로 작성되었습니다.\\n- 각 문장은 간결하고 명료한 어구로 이루어져 있습니다.\\n- 시 전체가 파이썬 언어의 장단점을 짧고 간결하게 설명하고 있습니다.\\n- 각 장단점은 번호와 함께 나열되어 있어 구조적으로 보기 쉽습니다.')"
      ]
     },
     "execution_count": 11,
     "metadata": {},
     "output_type": "execute_result"
    }
   ],
   "source": [
    "from langchain.chat_models import ChatOpenAI\n",
    "from langchain.prompts import ChatPromptTemplate\n",
    "from langchain.callbacks import StreamingStdOutCallbackHandler\n",
    "\n",
    "chat = ChatOpenAI(temperature=0.1)\n",
    "\n",
    "programmer_prompt = ChatPromptTemplate.from_messages([\n",
    "    (\"system\", \"You are a programmer who can handle all the developing languages. Please explain briefly and clearly about the length and weakness of the language I asked.\"),\n",
    "    (\"human\", \"I want to know about {language} language\")\n",
    "])\n",
    "\n",
    "programmer_chain = programmer_prompt | chat\n",
    "\n",
    "poet_prompt = ChatPromptTemplate.from_messages([\n",
    "    (\"system\", \"You are a Nobel Prize-winning poet, Han Kang. Please make my explanation into a Korean poem. And please also explain the characteristics of the poem you wrote\"),\n",
    "    (\"human\", \"{description}\")\n",
    "])\n",
    "\n",
    "poet_chain = poet_prompt | chat\n",
    "\n",
    "final_chain = {\"description\":programmer_chain} | poet_chain\n",
    "\n",
    "final_chain.invoke({\n",
    "    \"language\": \"python\"\n",
    "})"
   ]
  }
 ],
 "metadata": {
  "kernelspec": {
   "display_name": "env",
   "language": "python",
   "name": "python3"
  },
  "language_info": {
   "codemirror_mode": {
    "name": "ipython",
    "version": 3
   },
   "file_extension": ".py",
   "mimetype": "text/x-python",
   "name": "python",
   "nbconvert_exporter": "python",
   "pygments_lexer": "ipython3",
   "version": "3.11.6"
  }
 },
 "nbformat": 4,
 "nbformat_minor": 2
}
