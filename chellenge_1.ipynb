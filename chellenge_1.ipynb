{
 "cells": [
  {
   "cell_type": "code",
   "execution_count": 9,
   "metadata": {},
   "outputs": [
    {
     "data": {
      "text/plain": [
       "AIMessage(content=\"In the realm of code, Python reigns supreme,\\nA language of simplicity, a programmer's dream.\\nFrom web to AI, its reach does extend,\\nIn fields diverse, Python finds its blend.\\n\\nEasy to learn, its syntax pure and clear,\\nFor novices to grasp, without a fear.\\nVersatile it stands, in paradigms varied,\\nProcedural, object-oriented, all carried.\\n\\nLibraries vast, a treasure trove to explore,\\nStandard and third-party, offering more.\\nCommunity strong, in forums they unite,\\nSupporting growth, in day and night.\\n\\nCrossing platforms, with ease it strides,\\nWindows, macOS, Linux, it abides.\\nYet weaknesses lurk, in Python's domain,\\nPerformance lagging, a drawback plain.\\n\\nThe GIL's grip, on threads it holds tight,\\nLimiting speed, in the multi-threaded fight.\\nMobile app realm, not Python's forte,\\nJava, Swift preferred, in that display.\\n\\nDynamic typing, a double-edged sword,\\nErrors at runtime, if not well stored.\\nMobile, games, Python's reach constrained,\\nIn these domains, other languages reign.\\n\\nStrengths and weaknesses, in Python's tale,\\nSimplicity, versatility, in its sail.\\nChallenges faced, in performance and more,\\nYet Python endures, its essence pure.\")"
      ]
     },
     "execution_count": 9,
     "metadata": {},
     "output_type": "execute_result"
    }
   ],
   "source": [
    "from langchain.chat_models import ChatOpenAI\n",
    "from langchain.prompts import ChatPromptTemplate\n",
    "from langchain.callbacks import StreamingStdOutCallbackHandler\n",
    "\n",
    "chat = ChatOpenAI(temperature=0.1)\n",
    "\n",
    "programmer_prompt = ChatPromptTemplate.from_messages([\n",
    "    (\"system\", \"You are a programmer who can handle all the developing languages. Please explain briefly and clearly about the length and weakness of the language I asked.\"),\n",
    "    (\"human\", \"I want to know about {language} language\")\n",
    "])\n",
    "\n",
    "programmer_chain = programmer_prompt | chat\n",
    "\n",
    "poet_prompt = ChatPromptTemplate.from_messages([\n",
    "    (\"system\", \"You are a poet. Please make a poem of what I explained. The style of poetry is that of Han Kang, a Korean writer who won the Nobel Prize\"),\n",
    "    (\"human\", \"{description}\")\n",
    "])\n",
    "\n",
    "poet_chain = poet_prompt | chat\n",
    "\n",
    "final_chain = {\"description\":programmer_chain} | poet_chain\n",
    "\n",
    "final_chain.invoke({\n",
    "    \"language\": \"python\"\n",
    "})"
   ]
  }
 ],
 "metadata": {
  "kernelspec": {
   "display_name": "env",
   "language": "python",
   "name": "python3"
  },
  "language_info": {
   "codemirror_mode": {
    "name": "ipython",
    "version": 3
   },
   "file_extension": ".py",
   "mimetype": "text/x-python",
   "name": "python",
   "nbconvert_exporter": "python",
   "pygments_lexer": "ipython3",
   "version": "3.11.6"
  }
 },
 "nbformat": 4,
 "nbformat_minor": 2
}
